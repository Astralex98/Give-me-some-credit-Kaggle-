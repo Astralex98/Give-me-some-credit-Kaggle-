{
  "cells": [
    {
      "cell_type": "markdown",
      "metadata": {
        "id": "VHc1eQ87cTXC"
      },
      "source": [
        "<a href=\"https://colab.research.google.com/github/adasegroup/ML2022_seminars/blob/master/seminar7/seminar_GB.ipynb\" target=\"_parent\"><img src=\"https://colab.research.google.com/assets/colab-badge.svg\" alt=\"Open In Colab\"/></a>"
      ]
    },
    {
      "cell_type": "markdown",
      "metadata": {
        "id": "JJK1f9XDcTXb"
      },
      "source": [
        "## EDA and Data preprocessing for \"Give me some credit\" data\n"
      ]
    },
    {
      "cell_type": "code",
      "execution_count": null,
      "metadata": {
        "id": "Bu59fC0hcTXb"
      },
      "outputs": [],
      "source": [
        "rand_state = 123"
      ]
    },
    {
      "cell_type": "code",
      "source": [
        "df_train = pd.read_csv('https://raw.githubusercontent.com/adasegroup/ML2022_seminars/master/seminar5/give_me_some_credit.csv', index_col=0)"
      ],
      "metadata": {
        "id": "q5GgDDSwylId"
      },
      "execution_count": null,
      "outputs": []
    },
    {
      "cell_type": "code",
      "source": [
        "df_kaggle_test = pd.read_csv('https://raw.githubusercontent.com/Astralex98/Give-me-some-credit-Kaggle-/main/cs-test.csv', index_col=0)"
      ],
      "metadata": {
        "id": "1ho6J-VHymmG"
      },
      "execution_count": null,
      "outputs": []
    },
    {
      "cell_type": "code",
      "source": [
        "df_kaggle_test.info()"
      ],
      "metadata": {
        "colab": {
          "base_uri": "https://localhost:8080/"
        },
        "id": "3j22Lmt0yn2f",
        "outputId": "bf2e68b8-f7e4-4a92-ac03-4e438ebdd185"
      },
      "execution_count": null,
      "outputs": [
        {
          "output_type": "stream",
          "name": "stdout",
          "text": [
            "<class 'pandas.core.frame.DataFrame'>\n",
            "Int64Index: 101503 entries, 1 to 101503\n",
            "Data columns (total 11 columns):\n",
            " #   Column                                Non-Null Count   Dtype  \n",
            "---  ------                                --------------   -----  \n",
            " 0   SeriousDlqin2yrs                      0 non-null       float64\n",
            " 1   RevolvingUtilizationOfUnsecuredLines  101503 non-null  float64\n",
            " 2   age                                   101503 non-null  int64  \n",
            " 3   NumberOfTime30-59DaysPastDueNotWorse  101503 non-null  int64  \n",
            " 4   DebtRatio                             101503 non-null  float64\n",
            " 5   MonthlyIncome                         81400 non-null   float64\n",
            " 6   NumberOfOpenCreditLinesAndLoans       101503 non-null  int64  \n",
            " 7   NumberOfTimes90DaysLate               101503 non-null  int64  \n",
            " 8   NumberRealEstateLoansOrLines          101503 non-null  int64  \n",
            " 9   NumberOfTime60-89DaysPastDueNotWorse  101503 non-null  int64  \n",
            " 10  NumberOfDependents                    98877 non-null   float64\n",
            "dtypes: float64(5), int64(6)\n",
            "memory usage: 9.3 MB\n"
          ]
        }
      ]
    },
    {
      "cell_type": "code",
      "source": [
        "# There are no any labels in test, so we just remove this column\n",
        "df_kaggle_test = df_kaggle_test.drop(['SeriousDlqin2yrs'], axis=1)"
      ],
      "metadata": {
        "id": "kcrr7e-9ypva"
      },
      "execution_count": null,
      "outputs": []
    },
    {
      "cell_type": "code",
      "source": [
        "df_train.info()"
      ],
      "metadata": {
        "colab": {
          "base_uri": "https://localhost:8080/"
        },
        "id": "ndUn7b7Eyp07",
        "outputId": "20b5216f-e311-45e0-f6ad-f92a572a3e02"
      },
      "execution_count": null,
      "outputs": [
        {
          "output_type": "stream",
          "name": "stdout",
          "text": [
            "<class 'pandas.core.frame.DataFrame'>\n",
            "Int64Index: 150000 entries, 1 to 150000\n",
            "Data columns (total 11 columns):\n",
            " #   Column                                Non-Null Count   Dtype  \n",
            "---  ------                                --------------   -----  \n",
            " 0   SeriousDlqin2yrs                      150000 non-null  int64  \n",
            " 1   RevolvingUtilizationOfUnsecuredLines  150000 non-null  float64\n",
            " 2   age                                   150000 non-null  int64  \n",
            " 3   NumberOfTime30-59DaysPastDueNotWorse  150000 non-null  int64  \n",
            " 4   DebtRatio                             150000 non-null  float64\n",
            " 5   MonthlyIncome                         120269 non-null  float64\n",
            " 6   NumberOfOpenCreditLinesAndLoans       150000 non-null  int64  \n",
            " 7   NumberOfTimes90DaysLate               150000 non-null  int64  \n",
            " 8   NumberRealEstateLoansOrLines          150000 non-null  int64  \n",
            " 9   NumberOfTime60-89DaysPastDueNotWorse  150000 non-null  int64  \n",
            " 10  NumberOfDependents                    146076 non-null  float64\n",
            "dtypes: float64(4), int64(7)\n",
            "memory usage: 13.7 MB\n"
          ]
        }
      ]
    },
    {
      "cell_type": "code",
      "source": [
        "# Check for imbalance\n",
        "df_train['SeriousDlqin2yrs'].value_counts()"
      ],
      "metadata": {
        "colab": {
          "base_uri": "https://localhost:8080/"
        },
        "id": "0EksNMIRyx8y",
        "outputId": "267d911e-dd4d-4e3f-c0d8-fad046e58f0b"
      },
      "execution_count": null,
      "outputs": [
        {
          "output_type": "execute_result",
          "data": {
            "text/plain": [
              "0    139974\n",
              "1     10026\n",
              "Name: SeriousDlqin2yrs, dtype: int64"
            ]
          },
          "metadata": {},
          "execution_count": 11
        }
      ]
    },
    {
      "cell_type": "markdown",
      "source": [
        "**Summary of quick EDA:**\n",
        "\n",
        "1. There are some missing values\n",
        "\n",
        "2. Our classification task is highly imbalanced"
      ],
      "metadata": {
        "id": "dCEUCxDKy0ef"
      }
    },
    {
      "cell_type": "markdown",
      "source": [
        "Let's look at feature values in more details"
      ],
      "metadata": {
        "id": "-Tn15V3-4eo3"
      }
    },
    {
      "cell_type": "markdown",
      "source": [
        "#### RevolvingUtilizationOfUnsecuredLines"
      ],
      "metadata": {
        "id": "1LX8iF5L5wbS"
      }
    },
    {
      "cell_type": "markdown",
      "source": [
        "Total balance on credit cards and personal lines of credit except real estate and no installment debt like car loans divided by the sum of credit limits"
      ],
      "metadata": {
        "id": "iIlmi_LV522o"
      }
    },
    {
      "cell_type": "code",
      "source": [
        "df_train['RevolvingUtilizationOfUnsecuredLines'].plot(kind='hist', edgecolor='black')"
      ],
      "metadata": {
        "colab": {
          "base_uri": "https://localhost:8080/",
          "height": 282
        },
        "id": "h2PpRU1DA8gk",
        "outputId": "aa01a718-fc32-4258-cc05-e7ed86241d8b"
      },
      "execution_count": null,
      "outputs": [
        {
          "output_type": "execute_result",
          "data": {
            "text/plain": [
              "<matplotlib.axes._subplots.AxesSubplot at 0x7feaaed314c0>"
            ]
          },
          "metadata": {},
          "execution_count": 12
        },
        {
          "output_type": "display_data",
          "data": {
            "text/plain": [
              "<Figure size 432x288 with 1 Axes>"
            ],
            "image/png": "[encoded data removed]"
          },
          "metadata": {
            "needs_background": "light"
          }
        }
      ]
    },
    {
      "cell_type": "code",
      "source": [
        "df_train['RevolvingUtilizationOfUnsecuredLines'].describe()"
      ],
      "metadata": {
        "colab": {
          "base_uri": "https://localhost:8080/"
        },
        "id": "UZUlPnKb4D-Y",
        "outputId": "0299331d-8038-4d8a-ad27-5c1f9c1fdae3"
      },
      "execution_count": null,
      "outputs": [
        {
          "output_type": "execute_result",
          "data": {
            "text/plain": [
              "count    150000.000000\n",
              "mean          6.048438\n",
              "std         249.755371\n",
              "min           0.000000\n",
              "25%           0.029867\n",
              "50%           0.154181\n",
              "75%           0.559046\n",
              "max       50708.000000\n",
              "Name: RevolvingUtilizationOfUnsecuredLines, dtype: float64"
            ]
          },
          "metadata": {},
          "execution_count": 13
        }
      ]
    },
    {
      "cell_type": "markdown",
      "source": [
        "**MY COMMENT:**\n",
        "\n",
        "Actually, I don't understand what is the meaning of this feature. But from the plot I can see that there too much right-skewed outliers."
      ],
      "metadata": {
        "id": "h14c6lV4KgjU"
      }
    },
    {
      "cell_type": "markdown",
      "source": [
        "#### Age"
      ],
      "metadata": {
        "id": "V_XJet1m9oTB"
      }
    },
    {
      "cell_type": "markdown",
      "source": [
        "Age of borrower in years"
      ],
      "metadata": {
        "id": "1HuuHnEp-RKb"
      }
    },
    {
      "cell_type": "code",
      "source": [
        "df_train['age'].plot(kind='hist', edgecolor='black')"
      ],
      "metadata": {
        "colab": {
          "base_uri": "https://localhost:8080/",
          "height": 282
        },
        "id": "t8Kra1LWBAWq",
        "outputId": "1f52e2c9-9277-4361-bd0e-35180ee070f5"
      },
      "execution_count": null,
      "outputs": [
        {
          "output_type": "execute_result",
          "data": {
            "text/plain": [
              "<matplotlib.axes._subplots.AxesSubplot at 0x7feaae4f96d0>"
            ]
          },
          "metadata": {},
          "execution_count": 14
        },
        {
          "output_type": "display_data",
          "data": {
            "text/plain": [
              "<Figure size 432x288 with 1 Axes>"
            ],
            "image/png": "[encoded data removed]"
          },
          "metadata": {
            "needs_background": "light"
          }
        }
      ]
    },
    {
      "cell_type": "code",
      "source": [
        "df_train['age'].describe()"
      ],
      "metadata": {
        "colab": {
          "base_uri": "https://localhost:8080/"
        },
        "id": "r2BXUZCA9vHS",
        "outputId": "630b3e11-6947-4721-e254-b5d678cbb928"
      },
      "execution_count": null,
      "outputs": [
        {
          "output_type": "execute_result",
          "data": {
            "text/plain": [
              "count    150000.000000\n",
              "mean         52.295207\n",
              "std          14.771866\n",
              "min           0.000000\n",
              "25%          41.000000\n",
              "50%          52.000000\n",
              "75%          63.000000\n",
              "max         109.000000\n",
              "Name: age, dtype: float64"
            ]
          },
          "metadata": {},
          "execution_count": 15
        }
      ]
    },
    {
      "cell_type": "markdown",
      "source": [
        "**MY COMMENT:**\n",
        "\n",
        "This distribution seems for me as OK. "
      ],
      "metadata": {
        "id": "ZIEvynNHMWne"
      }
    },
    {
      "cell_type": "markdown",
      "source": [
        "#### NumberOfTime30-59DaysPastDueNotWorse"
      ],
      "metadata": {
        "id": "QIV1-hCc-Cd-"
      }
    },
    {
      "cell_type": "markdown",
      "source": [
        "Number of times borrower has been 30-59 days past due but no worse in the last 2 years."
      ],
      "metadata": {
        "id": "S_3NV0H1-Vme"
      }
    },
    {
      "cell_type": "code",
      "source": [
        "df_train['NumberOfTime30-59DaysPastDueNotWorse'].plot(kind='hist', edgecolor='black')"
      ],
      "metadata": {
        "colab": {
          "base_uri": "https://localhost:8080/",
          "height": 282
        },
        "id": "l35j1nsSBBn_",
        "outputId": "90f1b515-bcb7-4afe-e2e1-f580eb7ac773"
      },
      "execution_count": null,
      "outputs": [
        {
          "output_type": "execute_result",
          "data": {
            "text/plain": [
              "<matplotlib.axes._subplots.AxesSubplot at 0x7feaae479f40>"
            ]
          },
          "metadata": {},
          "execution_count": 16
        },
        {
          "output_type": "display_data",
          "data": {
            "text/plain": [
              "<Figure size 432x288 with 1 Axes>"
            ],
            "image/png": "[encoded data removed]"
          },
          "metadata": {
            "needs_background": "light"
          }
        }
      ]
    },
    {
      "cell_type": "code",
      "source": [
        "df_train['NumberOfTime30-59DaysPastDueNotWorse'].value_counts()"
      ],
      "metadata": {
        "colab": {
          "base_uri": "https://localhost:8080/"
        },
        "id": "QPdp_nO9-0g1",
        "outputId": "6dec3a46-a665-48cc-f7bd-a7a6a04e6d96"
      },
      "execution_count": null,
      "outputs": [
        {
          "output_type": "execute_result",
          "data": {
            "text/plain": [
              "0     126018\n",
              "1      16033\n",
              "2       4598\n",
              "3       1754\n",
              "4        747\n",
              "5        342\n",
              "98       264\n",
              "6        140\n",
              "7         54\n",
              "8         25\n",
              "9         12\n",
              "96         5\n",
              "10         4\n",
              "12         2\n",
              "13         1\n",
              "11         1\n",
              "Name: NumberOfTime30-59DaysPastDueNotWorse, dtype: int64"
            ]
          },
          "metadata": {},
          "execution_count": 17
        }
      ]
    },
    {
      "cell_type": "code",
      "source": [
        "df_train['NumberOfTime30-59DaysPastDueNotWorse'].describe()"
      ],
      "metadata": {
        "colab": {
          "base_uri": "https://localhost:8080/"
        },
        "id": "5zWxm4-d-G6B",
        "outputId": "10412d3c-71ea-4557-b8bb-a1c02f7dbdcc"
      },
      "execution_count": null,
      "outputs": [
        {
          "output_type": "execute_result",
          "data": {
            "text/plain": [
              "count    150000.000000\n",
              "mean          0.421033\n",
              "std           4.192781\n",
              "min           0.000000\n",
              "25%           0.000000\n",
              "50%           0.000000\n",
              "75%           0.000000\n",
              "max          98.000000\n",
              "Name: NumberOfTime30-59DaysPastDueNotWorse, dtype: float64"
            ]
          },
          "metadata": {},
          "execution_count": 18
        }
      ]
    },
    {
      "cell_type": "markdown",
      "source": [
        "**MY COMMENT:**\n",
        "\n",
        "We can see that values, which are equal to 96 and 98, are wrong. IMHO, we should just remove them. "
      ],
      "metadata": {
        "id": "_ZyORyB1M5Ha"
      }
    },
    {
      "cell_type": "markdown",
      "source": [
        "#### DebtRatio"
      ],
      "metadata": {
        "id": "i4UOMiVY-7QM"
      }
    },
    {
      "cell_type": "markdown",
      "source": [
        "Monthly debt payments, alimony,living costs divided by monthy gross income"
      ],
      "metadata": {
        "id": "f1RBxuBF_Ln2"
      }
    },
    {
      "cell_type": "code",
      "source": [
        "df_train['DebtRatio'].plot(kind='hist', edgecolor='black')"
      ],
      "metadata": {
        "colab": {
          "base_uri": "https://localhost:8080/",
          "height": 282
        },
        "id": "pmIV-EzIBEbh",
        "outputId": "50db4304-37e5-4012-cf3e-7ba15b6c74b9"
      },
      "execution_count": null,
      "outputs": [
        {
          "output_type": "execute_result",
          "data": {
            "text/plain": [
              "<matplotlib.axes._subplots.AxesSubplot at 0x7feaae3f3df0>"
            ]
          },
          "metadata": {},
          "execution_count": 19
        },
        {
          "output_type": "display_data",
          "data": {
            "text/plain": [
              "<Figure size 432x288 with 1 Axes>"
            ],
            "image/png": "[encoded data removed]"
          },
          "metadata": {
            "needs_background": "light"
          }
        }
      ]
    },
    {
      "cell_type": "code",
      "source": [
        "df_train['DebtRatio'].value_counts()"
      ],
      "metadata": {
        "colab": {
          "base_uri": "https://localhost:8080/"
        },
        "id": "Q835Vso2_Q-u",
        "outputId": "45ce8893-ba71-4370-c365-78718d805aa2"
      },
      "execution_count": null,
      "outputs": [
        {
          "output_type": "execute_result",
          "data": {
            "text/plain": [
              "0.000000    4113\n",
              "1.000000     229\n",
              "4.000000     174\n",
              "2.000000     170\n",
              "3.000000     162\n",
              "            ... \n",
              "0.368763       1\n",
              "0.108009       1\n",
              "0.441337       1\n",
              "1.006015       1\n",
              "0.249908       1\n",
              "Name: DebtRatio, Length: 114194, dtype: int64"
            ]
          },
          "metadata": {},
          "execution_count": 20
        }
      ]
    },
    {
      "cell_type": "code",
      "source": [
        "df_train['DebtRatio'].describe()"
      ],
      "metadata": {
        "colab": {
          "base_uri": "https://localhost:8080/"
        },
        "id": "pyF2ThoEAlTk",
        "outputId": "5eed79bd-497d-4844-8b8f-a4c1b1560fe7"
      },
      "execution_count": null,
      "outputs": [
        {
          "output_type": "execute_result",
          "data": {
            "text/plain": [
              "count    150000.000000\n",
              "mean        353.005076\n",
              "std        2037.818523\n",
              "min           0.000000\n",
              "25%           0.175074\n",
              "50%           0.366508\n",
              "75%           0.868254\n",
              "max      329664.000000\n",
              "Name: DebtRatio, dtype: float64"
            ]
          },
          "metadata": {},
          "execution_count": 21
        }
      ]
    },
    {
      "cell_type": "markdown",
      "source": [
        "**MY COMMENT:**\n",
        "\n",
        "It seems like DebtRation has many right-skewed outliers."
      ],
      "metadata": {
        "id": "xYgYO5QeNwqV"
      }
    },
    {
      "cell_type": "markdown",
      "source": [
        "#### Monthly income"
      ],
      "metadata": {
        "id": "OhltuTMNBJM7"
      }
    },
    {
      "cell_type": "markdown",
      "source": [
        "Monthly income"
      ],
      "metadata": {
        "id": "0jKav-zpBgcu"
      }
    },
    {
      "cell_type": "code",
      "source": [
        "df_train['MonthlyIncome'].plot(kind='hist', edgecolor='black')"
      ],
      "metadata": {
        "colab": {
          "base_uri": "https://localhost:8080/",
          "height": 295
        },
        "id": "mgNLAzzwBPo0",
        "outputId": "e6245f9e-2dcc-4294-f406-df389972932b"
      },
      "execution_count": null,
      "outputs": [
        {
          "output_type": "execute_result",
          "data": {
            "text/plain": [
              "<matplotlib.axes._subplots.AxesSubplot at 0x7feaae36c280>"
            ]
          },
          "metadata": {},
          "execution_count": 22
        },
        {
          "output_type": "display_data",
          "data": {
            "text/plain": [
              "<Figure size 432x288 with 1 Axes>"
            ],
            "image/png": "[encoded data removed]"
          },
          "metadata": {
            "needs_background": "light"
          }
        }
      ]
    },
    {
      "cell_type": "code",
      "source": [
        "df_train['MonthlyIncome'].value_counts()"
      ],
      "metadata": {
        "colab": {
          "base_uri": "https://localhost:8080/"
        },
        "id": "OQ2t94wPBPs6",
        "outputId": "e7b29217-27c9-47f9-e1cc-e6d1d7dcb146"
      },
      "execution_count": null,
      "outputs": [
        {
          "output_type": "execute_result",
          "data": {
            "text/plain": [
              "5000.0     2757\n",
              "4000.0     2106\n",
              "6000.0     1934\n",
              "3000.0     1758\n",
              "0.0        1634\n",
              "           ... \n",
              "16084.0       1\n",
              "10523.0       1\n",
              "55250.0       1\n",
              "9242.0        1\n",
              "7647.0        1\n",
              "Name: MonthlyIncome, Length: 13594, dtype: int64"
            ]
          },
          "metadata": {},
          "execution_count": 23
        }
      ]
    },
    {
      "cell_type": "code",
      "source": [
        "df_train['MonthlyIncome'].describe()"
      ],
      "metadata": {
        "colab": {
          "base_uri": "https://localhost:8080/"
        },
        "id": "ZN3A3hX8BPwh",
        "outputId": "e6a9642e-2985-4bea-df02-f072edbb1881"
      },
      "execution_count": null,
      "outputs": [
        {
          "output_type": "execute_result",
          "data": {
            "text/plain": [
              "count    1.202690e+05\n",
              "mean     6.670221e+03\n",
              "std      1.438467e+04\n",
              "min      0.000000e+00\n",
              "25%      3.400000e+03\n",
              "50%      5.400000e+03\n",
              "75%      8.249000e+03\n",
              "max      3.008750e+06\n",
              "Name: MonthlyIncome, dtype: float64"
            ]
          },
          "metadata": {},
          "execution_count": 24
        }
      ]
    },
    {
      "cell_type": "markdown",
      "source": [
        "#### NumberOfOpenCreditLinesAndLoans"
      ],
      "metadata": {
        "id": "VDkHO-5EBhij"
      }
    },
    {
      "cell_type": "markdown",
      "source": [
        "Number of Open loans (installment like car loan or mortgage) and Lines of credit (e.g. credit cards)"
      ],
      "metadata": {
        "id": "1xqHuSBpBkwl"
      }
    },
    {
      "cell_type": "code",
      "source": [
        "df_train['NumberOfOpenCreditLinesAndLoans'].plot(kind='hist', edgecolor='black')"
      ],
      "metadata": {
        "colab": {
          "base_uri": "https://localhost:8080/",
          "height": 282
        },
        "id": "VOVF-qmfBbWG",
        "outputId": "c41ddce7-999b-498f-bdfd-2123a4a78df3"
      },
      "execution_count": null,
      "outputs": [
        {
          "output_type": "execute_result",
          "data": {
            "text/plain": [
              "<matplotlib.axes._subplots.AxesSubplot at 0x7feaae4eeca0>"
            ]
          },
          "metadata": {},
          "execution_count": 25
        },
        {
          "output_type": "display_data",
          "data": {
            "text/plain": [
              "<Figure size 432x288 with 1 Axes>"
            ],
            "image/png": "[encoded data removed]"
          },
          "metadata": {
            "needs_background": "light"
          }
        }
      ]
    },
    {
      "cell_type": "code",
      "source": [
        "df_train['NumberOfOpenCreditLinesAndLoans'].value_counts()"
      ],
      "metadata": {
        "colab": {
          "base_uri": "https://localhost:8080/"
        },
        "id": "zWuQHTSRBbZ-",
        "outputId": "01297033-a6af-43b0-cf61-f0dbace0fb14"
      },
      "execution_count": null,
      "outputs": [
        {
          "output_type": "execute_result",
          "data": {
            "text/plain": [
              "6     13614\n",
              "7     13245\n",
              "5     12931\n",
              "8     12562\n",
              "4     11609\n",
              "9     11355\n",
              "10     9624\n",
              "3      9058\n",
              "11     8321\n",
              "12     7005\n",
              "2      6666\n",
              "13     5667\n",
              "14     4546\n",
              "1      4438\n",
              "15     3645\n",
              "16     3000\n",
              "17     2370\n",
              "0      1888\n",
              "18     1874\n",
              "19     1433\n",
              "20     1169\n",
              "21      864\n",
              "22      685\n",
              "23      533\n",
              "24      422\n",
              "25      337\n",
              "26      239\n",
              "27      194\n",
              "28      150\n",
              "29      114\n",
              "30       88\n",
              "31       74\n",
              "32       52\n",
              "33       47\n",
              "34       35\n",
              "35       27\n",
              "36       18\n",
              "38       13\n",
              "40       10\n",
              "39        9\n",
              "42        8\n",
              "45        8\n",
              "43        8\n",
              "37        7\n",
              "48        6\n",
              "49        4\n",
              "54        4\n",
              "41        4\n",
              "52        3\n",
              "46        3\n",
              "57        2\n",
              "51        2\n",
              "56        2\n",
              "47        2\n",
              "50        2\n",
              "44        2\n",
              "58        1\n",
              "53        1\n",
              "Name: NumberOfOpenCreditLinesAndLoans, dtype: int64"
            ]
          },
          "metadata": {},
          "execution_count": 26
        }
      ]
    },
    {
      "cell_type": "code",
      "source": [
        "df_train['NumberOfOpenCreditLinesAndLoans'].describe()"
      ],
      "metadata": {
        "colab": {
          "base_uri": "https://localhost:8080/"
        },
        "id": "iUcdnxl1DxDs",
        "outputId": "ac699895-2b0c-44c7-c4e7-0d356f477e68"
      },
      "execution_count": null,
      "outputs": [
        {
          "output_type": "execute_result",
          "data": {
            "text/plain": [
              "count    150000.000000\n",
              "mean          8.452760\n",
              "std           5.145951\n",
              "min           0.000000\n",
              "25%           5.000000\n",
              "50%           8.000000\n",
              "75%          11.000000\n",
              "max          58.000000\n",
              "Name: NumberOfOpenCreditLinesAndLoans, dtype: float64"
            ]
          },
          "metadata": {},
          "execution_count": 27
        }
      ]
    },
    {
      "cell_type": "markdown",
      "source": [
        "#### NumberOfTimes90DaysLate"
      ],
      "metadata": {
        "id": "11OC5alwD3QP"
      }
    },
    {
      "cell_type": "markdown",
      "source": [
        "Number of times borrower has been 90 days or more past due."
      ],
      "metadata": {
        "id": "zYc_5xS5EA9U"
      }
    },
    {
      "cell_type": "code",
      "source": [
        "df_train['NumberOfTimes90DaysLate'].plot(kind='hist', edgecolor='black')"
      ],
      "metadata": {
        "colab": {
          "base_uri": "https://localhost:8080/",
          "height": 282
        },
        "id": "j6J81QHnEG3R",
        "outputId": "0a70201c-dcdf-47d0-aea0-b19516c8fffc"
      },
      "execution_count": null,
      "outputs": [
        {
          "output_type": "execute_result",
          "data": {
            "text/plain": [
              "<matplotlib.axes._subplots.AxesSubplot at 0x7feaae2d5e80>"
            ]
          },
          "metadata": {},
          "execution_count": 28
        },
        {
          "output_type": "display_data",
          "data": {
            "text/plain": [
              "<Figure size 432x288 with 1 Axes>"
            ],
            "image/png": "[encoded data removed]"
          },
          "metadata": {
            "needs_background": "light"
          }
        }
      ]
    },
    {
      "cell_type": "code",
      "source": [
        "df_train['NumberOfTimes90DaysLate'].value_counts()"
      ],
      "metadata": {
        "colab": {
          "base_uri": "https://localhost:8080/"
        },
        "id": "upm-IB_7EG9G",
        "outputId": "42dc62e3-2597-4162-8580-08a26a1fc9e0"
      },
      "execution_count": null,
      "outputs": [
        {
          "output_type": "execute_result",
          "data": {
            "text/plain": [
              "0     141662\n",
              "1       5243\n",
              "2       1555\n",
              "3        667\n",
              "4        291\n",
              "98       264\n",
              "5        131\n",
              "6         80\n",
              "7         38\n",
              "8         21\n",
              "9         19\n",
              "10         8\n",
              "96         5\n",
              "11         5\n",
              "13         4\n",
              "15         2\n",
              "14         2\n",
              "12         2\n",
              "17         1\n",
              "Name: NumberOfTimes90DaysLate, dtype: int64"
            ]
          },
          "metadata": {},
          "execution_count": 29
        }
      ]
    },
    {
      "cell_type": "code",
      "source": [
        "df_train['NumberOfTimes90DaysLate'].describe()"
      ],
      "metadata": {
        "colab": {
          "base_uri": "https://localhost:8080/"
        },
        "id": "Wq2-aYFZEHC2",
        "outputId": "95ac03ac-e845-4a14-e723-84d0b0095a65"
      },
      "execution_count": null,
      "outputs": [
        {
          "output_type": "execute_result",
          "data": {
            "text/plain": [
              "count    150000.000000\n",
              "mean          0.265973\n",
              "std           4.169304\n",
              "min           0.000000\n",
              "25%           0.000000\n",
              "50%           0.000000\n",
              "75%           0.000000\n",
              "max          98.000000\n",
              "Name: NumberOfTimes90DaysLate, dtype: float64"
            ]
          },
          "metadata": {},
          "execution_count": 30
        }
      ]
    },
    {
      "cell_type": "markdown",
      "source": [
        "#### NumberRealEstateLoansOrLines"
      ],
      "metadata": {
        "id": "HavhXdH1EVyz"
      }
    },
    {
      "cell_type": "markdown",
      "source": [
        "Number of mortgage and real estate loans including home equity lines of credit"
      ],
      "metadata": {
        "id": "YJCUDEcbEOF0"
      }
    },
    {
      "cell_type": "code",
      "source": [
        "df_train['NumberRealEstateLoansOrLines'].plot(kind='hist', edgecolor='black')"
      ],
      "metadata": {
        "colab": {
          "base_uri": "https://localhost:8080/",
          "height": 282
        },
        "id": "2zoUExrCEYa-",
        "outputId": "90111ad8-ddb0-4f34-bdc9-d9f048013788"
      },
      "execution_count": null,
      "outputs": [
        {
          "output_type": "execute_result",
          "data": {
            "text/plain": [
              "<matplotlib.axes._subplots.AxesSubplot at 0x7feaae246cd0>"
            ]
          },
          "metadata": {},
          "execution_count": 31
        },
        {
          "output_type": "display_data",
          "data": {
            "text/plain": [
              "<Figure size 432x288 with 1 Axes>"
            ],
            "image/png": "[encoded data removed]"
          },
          "metadata": {
            "needs_background": "light"
          }
        }
      ]
    },
    {
      "cell_type": "code",
      "source": [
        "df_train['NumberRealEstateLoansOrLines'].value_counts()"
      ],
      "metadata": {
        "colab": {
          "base_uri": "https://localhost:8080/"
        },
        "id": "FMSe7EGNEZ2t",
        "outputId": "e4bb9955-b727-40e1-bfe7-c71ac1ba9a4f"
      },
      "execution_count": null,
      "outputs": [
        {
          "output_type": "execute_result",
          "data": {
            "text/plain": [
              "0     56188\n",
              "1     52338\n",
              "2     31522\n",
              "3      6300\n",
              "4      2170\n",
              "5       689\n",
              "6       320\n",
              "7       171\n",
              "8        93\n",
              "9        78\n",
              "10       37\n",
              "11       23\n",
              "12       18\n",
              "13       15\n",
              "15        7\n",
              "14        7\n",
              "17        4\n",
              "16        4\n",
              "25        3\n",
              "18        2\n",
              "23        2\n",
              "19        2\n",
              "20        2\n",
              "26        1\n",
              "54        1\n",
              "21        1\n",
              "29        1\n",
              "32        1\n",
              "Name: NumberRealEstateLoansOrLines, dtype: int64"
            ]
          },
          "metadata": {},
          "execution_count": 32
        }
      ]
    },
    {
      "cell_type": "code",
      "source": [
        "df_train['NumberRealEstateLoansOrLines'].describe()"
      ],
      "metadata": {
        "colab": {
          "base_uri": "https://localhost:8080/"
        },
        "id": "KmQAKgbIEZ5v",
        "outputId": "9beefec0-c4a7-4db7-bc3b-fe7501eba9fb"
      },
      "execution_count": null,
      "outputs": [
        {
          "output_type": "execute_result",
          "data": {
            "text/plain": [
              "count    150000.000000\n",
              "mean          1.018240\n",
              "std           1.129771\n",
              "min           0.000000\n",
              "25%           0.000000\n",
              "50%           1.000000\n",
              "75%           2.000000\n",
              "max          54.000000\n",
              "Name: NumberRealEstateLoansOrLines, dtype: float64"
            ]
          },
          "metadata": {},
          "execution_count": 33
        }
      ]
    },
    {
      "cell_type": "markdown",
      "source": [
        "#### NumberOfTime60-89DaysPastDueNotWorse"
      ],
      "metadata": {
        "id": "45yKMRhrEhLe"
      }
    },
    {
      "cell_type": "markdown",
      "source": [
        "Number of times borrower has been 60-89 days past due but no worse in the last 2 years."
      ],
      "metadata": {
        "id": "9Uw1n8CTEnsM"
      }
    },
    {
      "cell_type": "code",
      "source": [
        "df_train['NumberOfTime60-89DaysPastDueNotWorse'].plot(kind='hist', edgecolor='black')"
      ],
      "metadata": {
        "colab": {
          "base_uri": "https://localhost:8080/",
          "height": 282
        },
        "id": "IglOcXVgEqUH",
        "outputId": "9a50f7ca-7ab6-45d2-be4c-394a598ecb3e"
      },
      "execution_count": null,
      "outputs": [
        {
          "output_type": "execute_result",
          "data": {
            "text/plain": [
              "<matplotlib.axes._subplots.AxesSubplot at 0x7feaae1bc220>"
            ]
          },
          "metadata": {},
          "execution_count": 34
        },
        {
          "output_type": "display_data",
          "data": {
            "text/plain": [
              "<Figure size 432x288 with 1 Axes>"
            ],
            "image/png": "[encoded data removed]"
          },
          "metadata": {
            "needs_background": "light"
          }
        }
      ]
    },
    {
      "cell_type": "code",
      "source": [
        "df_train['NumberOfTime60-89DaysPastDueNotWorse'].value_counts()"
      ],
      "metadata": {
        "colab": {
          "base_uri": "https://localhost:8080/"
        },
        "id": "d17fxtw-EqXn",
        "outputId": "50de80c5-de83-451f-b8d2-646bb2f9bc40"
      },
      "execution_count": null,
      "outputs": [
        {
          "output_type": "execute_result",
          "data": {
            "text/plain": [
              "0     142396\n",
              "1       5731\n",
              "2       1118\n",
              "3        318\n",
              "98       264\n",
              "4        105\n",
              "5         34\n",
              "6         16\n",
              "7          9\n",
              "96         5\n",
              "8          2\n",
              "11         1\n",
              "9          1\n",
              "Name: NumberOfTime60-89DaysPastDueNotWorse, dtype: int64"
            ]
          },
          "metadata": {},
          "execution_count": 35
        }
      ]
    },
    {
      "cell_type": "code",
      "source": [
        "df_train['NumberOfTime60-89DaysPastDueNotWorse'].describe()"
      ],
      "metadata": {
        "colab": {
          "base_uri": "https://localhost:8080/"
        },
        "id": "oWnIWjEzEqbm",
        "outputId": "e7f0eb86-b6a4-4aa7-ef3d-5f3abf5223b4"
      },
      "execution_count": null,
      "outputs": [
        {
          "output_type": "execute_result",
          "data": {
            "text/plain": [
              "count    150000.000000\n",
              "mean          0.240387\n",
              "std           4.155179\n",
              "min           0.000000\n",
              "25%           0.000000\n",
              "50%           0.000000\n",
              "75%           0.000000\n",
              "max          98.000000\n",
              "Name: NumberOfTime60-89DaysPastDueNotWorse, dtype: float64"
            ]
          },
          "metadata": {},
          "execution_count": 36
        }
      ]
    },
    {
      "cell_type": "markdown",
      "source": [
        "#### NumberOfDependents"
      ],
      "metadata": {
        "id": "IzuCOeghExgq"
      }
    },
    {
      "cell_type": "markdown",
      "source": [
        "Number of dependents in family excluding themselves (spouse, children etc.)"
      ],
      "metadata": {
        "id": "CQA-FUB3E2Kr"
      }
    },
    {
      "cell_type": "code",
      "source": [
        "df_train['NumberOfDependents'].plot(kind='hist', edgecolor='black')"
      ],
      "metadata": {
        "colab": {
          "base_uri": "https://localhost:8080/",
          "height": 282
        },
        "id": "gj5IDwm2E4by",
        "outputId": "7da6eb1b-75b9-4ce3-83c3-a50c688e27cb"
      },
      "execution_count": null,
      "outputs": [
        {
          "output_type": "execute_result",
          "data": {
            "text/plain": [
              "<matplotlib.axes._subplots.AxesSubplot at 0x7feaae1304c0>"
            ]
          },
          "metadata": {},
          "execution_count": 37
        },
        {
          "output_type": "display_data",
          "data": {
            "text/plain": [
              "<Figure size 432x288 with 1 Axes>"
            ],
            "image/png": "[encoded data removed]"
          },
          "metadata": {
            "needs_background": "light"
          }
        }
      ]
    },
    {
      "cell_type": "code",
      "source": [
        "df_train['NumberOfDependents'].value_counts()"
      ],
      "metadata": {
        "colab": {
          "base_uri": "https://localhost:8080/"
        },
        "id": "YBTwloQIE4ei",
        "outputId": "90250aa8-28c8-4f3e-a1a2-1db8abfee108"
      },
      "execution_count": null,
      "outputs": [
        {
          "output_type": "execute_result",
          "data": {
            "text/plain": [
              "0.0     86902\n",
              "1.0     26316\n",
              "2.0     19522\n",
              "3.0      9483\n",
              "4.0      2862\n",
              "5.0       746\n",
              "6.0       158\n",
              "7.0        51\n",
              "8.0        24\n",
              "10.0        5\n",
              "9.0         5\n",
              "20.0        1\n",
              "13.0        1\n",
              "Name: NumberOfDependents, dtype: int64"
            ]
          },
          "metadata": {},
          "execution_count": 38
        }
      ]
    },
    {
      "cell_type": "code",
      "source": [
        "df_train['NumberOfDependents'].describe()"
      ],
      "metadata": {
        "colab": {
          "base_uri": "https://localhost:8080/"
        },
        "id": "d3XMpBW-E4h2",
        "outputId": "5e0947fd-ea79-45ab-8ee3-e8f948f5c427"
      },
      "execution_count": null,
      "outputs": [
        {
          "output_type": "execute_result",
          "data": {
            "text/plain": [
              "count    146076.000000\n",
              "mean          0.757222\n",
              "std           1.115086\n",
              "min           0.000000\n",
              "25%           0.000000\n",
              "50%           0.000000\n",
              "75%           1.000000\n",
              "max          20.000000\n",
              "Name: NumberOfDependents, dtype: float64"
            ]
          },
          "metadata": {},
          "execution_count": 39
        }
      ]
    },
    {
      "cell_type": "markdown",
      "source": [
        "### Outlier analysis"
      ],
      "metadata": {
        "id": "Eo8Co2POilTM"
      }
    },
    {
      "cell_type": "markdown",
      "source": [
        "<img src = 'https://i0.wp.com/neptune.ai/wp-content/uploads/2022/10/Outlier-treatment.png?ssl=1' width=\"600\"/>"
      ],
      "metadata": {
        "id": "EcO9M62piqt1"
      }
    },
    {
      "cell_type": "code",
      "source": [
        "class IQROutlierAnalizer:\n",
        "\n",
        "  def __init__(self, df):\n",
        "\n",
        "    # Initial dataframe\n",
        "    # We just drop NaNs to count low and upper bounds\n",
        "    self.df = df.dropna()\n",
        "\n",
        "    # List of pairs (low_bound, upper_bound) for each feature\n",
        "    self.bounds = []\n",
        "\n",
        "  def get_bounds(self):\n",
        "\n",
        "    # Overall number of features\n",
        "    features = self.df.columns\n",
        "\n",
        "    # Iterating over all features and collect low and upper bounds\n",
        "    for i in features:\n",
        "      iqr = np.subtract(*np.percentile(self.df[i],[75,25]))\n",
        "      low_bound = np.percentile(self.df[i],25) - 1.5*iqr\n",
        "      upper_bound = np.percentile(self.df[i],75) + 1.5*iqr\n",
        "      self.bounds.append((low_bound, upper_bound))\n",
        "    \n",
        "    return self.bounds\n",
        "  \n",
        "  def remove_noise_features(self):\n",
        "    \n",
        "    # Find low and upper bounds for each feature\n",
        "    bounds = self.get_bounds()\n",
        "\n",
        "    # Overall number of features\n",
        "    features = list(self.df.columns)\n",
        "\n",
        "    # Iterating over all features and collect low and upper bounds\n",
        "    for i in range(len(features)):\n",
        "      low_bound, upper_bound  = bounds[i]\n",
        "      self.df = self.df[(self.df[features[i]] >= low_bound) & (self.df[features[i]] <= upper_bound)]\n",
        "      print(\"df shape: {}\".format(self.df.shape))\n",
        "    \n",
        "    return self.df"
      ],
      "metadata": {
        "id": "4UTYgzPtkILH"
      },
      "execution_count": null,
      "outputs": []
    },
    {
      "cell_type": "code",
      "source": [
        "# Drop labels to explore analysis of the features\n",
        "df_1 = df_train.drop(['SeriousDlqin2yrs'], axis=1)"
      ],
      "metadata": {
        "id": "Ae_viBK3itrN"
      },
      "execution_count": null,
      "outputs": []
    },
    {
      "cell_type": "code",
      "source": [
        "outlier_analizer = IQROutlierAnalizer(df_1)"
      ],
      "metadata": {
        "id": "wlP-zrGRp-c5"
      },
      "execution_count": null,
      "outputs": []
    },
    {
      "cell_type": "code",
      "source": [
        "outlier_analizer.get_bounds()"
      ],
      "metadata": {
        "colab": {
          "base_uri": "https://localhost:8080/"
        },
        "id": "WR-51UMgyU95",
        "outputId": "7698f487-9917-4207-ed5e-4a396b9233c9"
      },
      "execution_count": null,
      "outputs": [
        {
          "output_type": "execute_result",
          "data": {
            "text/plain": [
              "[(-0.7814318415, 1.3959437065),\n",
              " (8.5, 92.5),\n",
              " (0.0, 0.0),\n",
              " (-0.3653701365, 0.9913171715),\n",
              " (-3873.5, 15522.5),\n",
              " (-4.0, 20.0),\n",
              " (0.0, 0.0),\n",
              " (-3.0, 5.0),\n",
              " (0.0, 0.0),\n",
              " (-3.0, 5.0)]"
            ]
          },
          "metadata": {},
          "execution_count": 43
        }
      ]
    },
    {
      "cell_type": "markdown",
      "source": [
        "We can see that features\n",
        "\n",
        "- **NumberOfTime30-59DaysPastDueNotWorse**\n",
        "\n",
        "- **NumberOfTimes90DaysLate**\n",
        "\n",
        "- **NumberOfTime60-89DaysPastDueNotWorse**\n",
        "\n",
        "have strange low and up bounds. We should deal with them separately."
      ],
      "metadata": {
        "id": "s4eDntYn2qEf"
      }
    },
    {
      "cell_type": "code",
      "source": [],
      "metadata": {
        "id": "bRrxkLRw0gfA"
      },
      "execution_count": null,
      "outputs": []
    },
    {
      "cell_type": "code",
      "source": [],
      "metadata": {
        "id": "FgpG94070gh3"
      },
      "execution_count": null,
      "outputs": []
    },
    {
      "cell_type": "code",
      "source": [],
      "metadata": {
        "id": "F5zee8kW0gku"
      },
      "execution_count": null,
      "outputs": []
    },
    {
      "cell_type": "markdown",
      "source": [
        "### Missing values"
      ],
      "metadata": {
        "id": "lktpqbZG5fjA"
      }
    },
    {
      "cell_type": "markdown",
      "source": [
        "Since random forests can't deal with NaNs, we should somehow deal with them. About strategies for dealing with missing values:https://towardsdatascience.com/7-ways-to-handle-missing-values-in-machine-learning-1a6326adf79e "
      ],
      "metadata": {
        "id": "LKm934315lgs"
      }
    },
    {
      "cell_type": "markdown",
      "source": [
        "We can see, that features **MonthlyIncome**(20%) and **NumberOfDependents** (3%) have some missing values. From our intuition we can understand that **MonthlyIncome** is highly important feature for our task. Consequently, dropping those data-points could be a not a good idea. Now, for the sake of simplicity, we can just impute NaNs with means of corresponding features."
      ],
      "metadata": {
        "id": "HoHmJdD75mZw"
      }
    },
    {
      "cell_type": "code",
      "source": [
        "# Method to preprocess data\n",
        "def df_remove_nans(df):\n",
        "\n",
        "  # Deal with NaNs\n",
        "  df[\"MonthlyIncome\"] = df[\"MonthlyIncome\"].replace(np.NaN,  df[\"MonthlyIncome\"].mean())\n",
        "  df[\"NumberOfDependents\"] = df[\"NumberOfDependents\"].replace(np.NaN,  df[\"NumberOfDependents\"].mean())\n",
        "\n",
        "  # small check for NaNs\n",
        "  if ((df[\"MonthlyIncome\"].isnull().values.any() == True) or (df[\"NumberOfDependents\"].isnull().values.any())):\n",
        "    print(\"There are some NaNs here!\")\n",
        "    return None\n",
        "  \n",
        "  return df"
      ],
      "metadata": {
        "id": "oOItFg115i6D"
      },
      "execution_count": null,
      "outputs": []
    },
    {
      "cell_type": "markdown",
      "source": [
        "### Scaling"
      ],
      "metadata": {
        "id": "F7eFAr_0jJUC"
      }
    },
    {
      "cell_type": "code",
      "source": [],
      "metadata": {
        "id": "v5-fkAzxjPhk"
      },
      "execution_count": null,
      "outputs": []
    },
    {
      "cell_type": "code",
      "source": [],
      "metadata": {
        "id": "LxFqXg5djPj_"
      },
      "execution_count": null,
      "outputs": []
    },
    {
      "cell_type": "code",
      "source": [],
      "metadata": {
        "id": "BEHz6HIsjPnW"
      },
      "execution_count": null,
      "outputs": []
    },
    {
      "cell_type": "markdown",
      "source": [
        "### Class imbalance"
      ],
      "metadata": {
        "id": "8FycyT4FAQ_X"
      }
    },
    {
      "cell_type": "markdown",
      "source": [
        "We deal with it in part 2 - \"Dividing data into train and test\""
      ],
      "metadata": {
        "id": "Cf3WjDXUGb3D"
      }
    },
    {
      "cell_type": "code",
      "source": [],
      "metadata": {
        "id": "XBJFW2rcc2zN"
      },
      "execution_count": null,
      "outputs": []
    },
    {
      "cell_type": "code",
      "source": [],
      "metadata": {
        "id": "BV3txrlYc22N"
      },
      "execution_count": null,
      "outputs": []
    },
    {
      "cell_type": "code",
      "source": [],
      "metadata": {
        "id": "ZEJv64HSPO2Q"
      },
      "execution_count": null,
      "outputs": []
    },
    {
      "cell_type": "code",
      "source": [
        "# remove nans data\n",
        "df_train = df_remove_nans(df_train)\n",
        "X_kaggle_test = df_remove_nans(df_kaggle_test)"
      ],
      "metadata": {
        "id": "QxjOvfBXOkts"
      },
      "execution_count": null,
      "outputs": []
    }
  ],
  "metadata": {
    "colab": {
      "provenance": []
    },
    "kernelspec": {
      "display_name": "Python 3",
      "language": "python",
      "name": "python3"
    },
    "language_info": {
      "codemirror_mode": {
        "name": "ipython",
        "version": 3
      },
      "file_extension": ".py",
      "mimetype": "text/x-python",
      "name": "python",
      "nbconvert_exporter": "python",
      "pygments_lexer": "ipython3",
      "version": "3.7.9"
    }
  },
  "nbformat": 4,
  "nbformat_minor": 0
}